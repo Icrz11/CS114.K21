{
  "nbformat": 4,
  "nbformat_minor": 0,
  "metadata": {
    "colab": {
      "name": "Mô tả đồ án",
      "provenance": [],
      "authorship_tag": "ABX9TyOjozTy63dM7r1QVgN+2jfv",
      "include_colab_link": true
    },
    "kernelspec": {
      "name": "python3",
      "display_name": "Python 3"
    }
  },
  "cells": [
    {
      "cell_type": "markdown",
      "metadata": {
        "id": "view-in-github",
        "colab_type": "text"
      },
      "source": [
        "<a href=\"https://colab.research.google.com/github/Icrz11/CS114.K21/blob/master/Capstone_project_describe.ipynb\" target=\"_parent\"><img src=\"https://colab.research.google.com/assets/colab-badge.svg\" alt=\"Open In Colab\"/></a>"
      ]
    },
    {
      "cell_type": "markdown",
      "metadata": {
        "id": "TkKF1VGEjgix",
        "colab_type": "text"
      },
      "source": [
        "1. Mô tả bài toán:\n",
        "\n",
        "  Với việc phát triển của công nghệ kéo theo sự ra đời của Autocar, và các hệ thống IOT, thì bài toán nhận diện tính hiệu đèn giao thông đã trở nên quan trọng hơn rất nhiều. Bài toán này dùng cho auto car để biết lúc nào phải dừng đèn đỏ, lúc nào được di chuyển, trong các hệ thống IOT có thể giúp kiểm tra xem xe nào đã vượt đèn, không tuân thù quy tắc tính hiệu đèn giao thông. Bài toán nhận diện màu đèn giao thông là sự kết hợp của 2 bài toán con đầu tiên đó là phát hiện đèn giao thông (ROI) mà ta quan tâm, sau đó sẽ là nhận diện màu đèn hiện tại của đèn giao thông đó là gì. Vì bài toán phát hiện là bài toán khá khó, nên chúng em sẽ làm về bài toán còn lại đó là phân lớp màu của đèn giao thông. \n",
        " * Input: Là ảnh của một đèn giao thông (được crop chỉ còn đối tượng đèn giao thông trong ảnh)\n",
        " * Output: Là dự đoán màu của đèn giao thông đó tương ứng 3 màu đỏ - vàng - xanh\n",
        "\n",
        "2. Mô tả về bộ dữ liệu:\n",
        " * Bộ dữ liệu được thu thập thông qua 2 cách:\n",
        "      * Offline: Một số ảnh được quay chụp thực tế từ trong nội ô thành phố Hồ Chí Minh\n",
        "      * Online: Dữ liệu được lấy từ google image và các bộ data giao thông (được cắt bằng tay) như borsch traffic data\n",
        "\n",
        "  * Tổng số ảnh được thu thâp khoảng hơn 900 ảnh trong đó có cả ảnh bị mờ, bị nhiễu do ánh sáng. Dữ liệu bị lệch khá nhiều có khoảng hơn 600 ảnh là xanh, 300 ảnh là đỏ và 80 ảnh là vàng.\n",
        "\n",
        "  * Ảnh được đọc lên từ các file theo hệ màu RGB được normalize về 1 size duy nhất là 100 x 100 pixel\n",
        "\n",
        "  * Chia data ra làm 2 tập 1 tập train khoảng 80% và 1 tập test khoảng 20%, dự định sẽ sử dụng K-Fold Validation để kiêm tra kết quả.\n",
        "\n",
        "3. Feature engineering:\n",
        "\n",
        "  Một số hướng rút trích đặc trưng sẽ có thể thử:\n",
        "    * Các đặc trưng về màu, dùng phương pháp đặc ngưỡng màu để lọc ra các pixel mà ta quan tâm sử dụng ảnh sau khi lọc ra các pixel này để mang vào model\n",
        "    * Sử dụng đặc trưng về vị trí của màu đèn với màu đỏ sẽ ở trên cùng của hình, màu vàng sẽ nằm ở giữa, các màu xanh nằm ở vị trí cuối cùng\n",
        "\n",
        "4. Mô tả về thuật toán máy học:\n",
        "\n",
        "  Sử dụng một số thuật toán máy học để phân lớp ảnh như:\n",
        "    * SVM\n",
        "    * Logistic regression\n",
        "    * Deicision tree\n",
        "    * GaussianNB \n",
        "    * K-Nearest-Neighbors\n",
        "\n",
        "6. Đánh giá kết quả thông qua một vài độ đo như accurancy, f1 score, loss..., so sánh kết quả đầu ra của các thuật toán\n"
      ]
    }
  ]
}