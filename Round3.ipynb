{
  "nbformat": 4,
  "nbformat_minor": 0,
  "metadata": {
    "colab": {
      "name": "Round3.ipynb",
      "provenance": [],
      "authorship_tag": "ABX9TyNwMQ8ob68aWtjaB0h0UkEe",
      "include_colab_link": true
    },
    "kernelspec": {
      "name": "python3",
      "display_name": "Python 3"
    }
  },
  "cells": [
    {
      "cell_type": "markdown",
      "metadata": {
        "id": "view-in-github",
        "colab_type": "text"
      },
      "source": [
        "<a href=\"https://colab.research.google.com/github/Icrz11/CS114.K21/blob/master/Round3.ipynb\" target=\"_parent\"><img src=\"https://colab.research.google.com/assets/colab-badge.svg\" alt=\"Open In Colab\"/></a>"
      ]
    },
    {
      "cell_type": "code",
      "metadata": {
        "id": "OoahahYvSKEi",
        "colab_type": "code",
        "outputId": "63dd9f20-8ca5-4f9a-ef32-55bb43fcb121",
        "colab": {
          "base_uri": "https://localhost:8080/",
          "height": 204
        }
      },
      "source": [
        "!wget http://cs.uit.edu.vn/data3.txt"
      ],
      "execution_count": 0,
      "outputs": [
        {
          "output_type": "stream",
          "text": [
            "--2020-06-13 00:33:25--  http://cs.uit.edu.vn/data3.txt\n",
            "Resolving cs.uit.edu.vn (cs.uit.edu.vn)... 118.69.123.142\n",
            "Connecting to cs.uit.edu.vn (cs.uit.edu.vn)|118.69.123.142|:80... connected.\n",
            "HTTP request sent, awaiting response... 200 OK\n",
            "Length: 178891 (175K) [text/plain]\n",
            "Saving to: ‘data3.txt.1’\n",
            "\n",
            "data3.txt.1         100%[===================>] 174.70K   199KB/s    in 0.9s    \n",
            "\n",
            "2020-06-13 00:33:28 (199 KB/s) - ‘data3.txt.1’ saved [178891/178891]\n",
            "\n"
          ],
          "name": "stdout"
        }
      ]
    },
    {
      "cell_type": "markdown",
      "metadata": {
        "id": "eVPpW7O2vEOf",
        "colab_type": "text"
      },
      "source": [
        "Dùng lệnh wget để lấy data từ trang http://cs.uit.edu.vn/data3.txt về, data được lấy về lưu trong colab\n"
      ]
    },
    {
      "cell_type": "code",
      "metadata": {
        "id": "RPbHH01vSr5R",
        "colab_type": "code",
        "colab": {}
      },
      "source": [
        "import pandas as pd\n",
        "import math\n",
        "import numpy as np\n",
        "import matplotlib.pyplot as plt\n",
        "from sklearn.model_selection import train_test_split\n",
        "from sklearn.metrics import accuracy_score\n",
        "from sklearn.metrics import mean_squared_error\n",
        "import seaborn as sns"
      ],
      "execution_count": 0,
      "outputs": []
    },
    {
      "cell_type": "markdown",
      "metadata": {
        "id": "RFyfDJeis7NZ",
        "colab_type": "text"
      },
      "source": [
        "Thêm vào các thư viện cần thiết\n",
        "\n"
      ]
    },
    {
      "cell_type": "code",
      "metadata": {
        "id": "9eRt5cFxSubH",
        "colab_type": "code",
        "colab": {}
      },
      "source": [
        "df = pd.read_csv ('/content/data3.txt')\n"
      ],
      "execution_count": 0,
      "outputs": []
    },
    {
      "cell_type": "code",
      "metadata": {
        "id": "4vqOJD_2S4ho",
        "colab_type": "code",
        "outputId": "7f2e370c-5e3a-4211-a521-ba49117582b7",
        "colab": {
          "base_uri": "https://localhost:8080/",
          "height": 204
        }
      },
      "source": [
        "df.head()\n"
      ],
      "execution_count": 0,
      "outputs": [
        {
          "output_type": "execute_result",
          "data": {
            "text/html": [
              "<div>\n",
              "<style scoped>\n",
              "    .dataframe tbody tr th:only-of-type {\n",
              "        vertical-align: middle;\n",
              "    }\n",
              "\n",
              "    .dataframe tbody tr th {\n",
              "        vertical-align: top;\n",
              "    }\n",
              "\n",
              "    .dataframe thead th {\n",
              "        text-align: right;\n",
              "    }\n",
              "</style>\n",
              "<table border=\"1\" class=\"dataframe\">\n",
              "  <thead>\n",
              "    <tr style=\"text-align: right;\">\n",
              "      <th></th>\n",
              "      <th>37837612</th>\n",
              "      <th>4.12166</th>\n",
              "    </tr>\n",
              "  </thead>\n",
              "  <tbody>\n",
              "    <tr>\n",
              "      <th>0</th>\n",
              "      <td>37395246</td>\n",
              "      <td>3.92089</td>\n",
              "    </tr>\n",
              "    <tr>\n",
              "      <th>1</th>\n",
              "      <td>36610827</td>\n",
              "      <td>3.21540</td>\n",
              "    </tr>\n",
              "    <tr>\n",
              "      <th>2</th>\n",
              "      <td>29555651</td>\n",
              "      <td>2.54506</td>\n",
              "    </tr>\n",
              "    <tr>\n",
              "      <th>3</th>\n",
              "      <td>25928216</td>\n",
              "      <td>2.21831</td>\n",
              "    </tr>\n",
              "    <tr>\n",
              "      <th>4</th>\n",
              "      <td>30423112</td>\n",
              "      <td>2.61376</td>\n",
              "    </tr>\n",
              "  </tbody>\n",
              "</table>\n",
              "</div>"
            ],
            "text/plain": [
              "   37837612  4.12166\n",
              "0  37395246  3.92089\n",
              "1  36610827  3.21540\n",
              "2  29555651  2.54506\n",
              "3  25928216  2.21831\n",
              "4  30423112  2.61376"
            ]
          },
          "metadata": {
            "tags": []
          },
          "execution_count": 31
        }
      ]
    },
    {
      "cell_type": "markdown",
      "metadata": {
        "id": "hSwjO-M2tAd4",
        "colab_type": "text"
      },
      "source": [
        "Nhìn sơ qua 5 điểm dữ liệu đầu tiên\n"
      ]
    },
    {
      "cell_type": "code",
      "metadata": {
        "id": "GTMKy5rIxoqi",
        "colab_type": "code",
        "colab": {}
      },
      "source": [
        "df.columns = ['Data', 'Time']"
      ],
      "execution_count": 0,
      "outputs": []
    },
    {
      "cell_type": "code",
      "metadata": {
        "id": "qI6_6THbx1Fc",
        "colab_type": "code",
        "outputId": "91ab3ab4-7959-406e-abd1-8dc8b0cab970",
        "colab": {
          "base_uri": "https://localhost:8080/",
          "height": 204
        }
      },
      "source": [
        "df.head()"
      ],
      "execution_count": 0,
      "outputs": [
        {
          "output_type": "execute_result",
          "data": {
            "text/html": [
              "<div>\n",
              "<style scoped>\n",
              "    .dataframe tbody tr th:only-of-type {\n",
              "        vertical-align: middle;\n",
              "    }\n",
              "\n",
              "    .dataframe tbody tr th {\n",
              "        vertical-align: top;\n",
              "    }\n",
              "\n",
              "    .dataframe thead th {\n",
              "        text-align: right;\n",
              "    }\n",
              "</style>\n",
              "<table border=\"1\" class=\"dataframe\">\n",
              "  <thead>\n",
              "    <tr style=\"text-align: right;\">\n",
              "      <th></th>\n",
              "      <th>Data</th>\n",
              "      <th>Time</th>\n",
              "    </tr>\n",
              "  </thead>\n",
              "  <tbody>\n",
              "    <tr>\n",
              "      <th>0</th>\n",
              "      <td>37395246</td>\n",
              "      <td>3.92089</td>\n",
              "    </tr>\n",
              "    <tr>\n",
              "      <th>1</th>\n",
              "      <td>36610827</td>\n",
              "      <td>3.21540</td>\n",
              "    </tr>\n",
              "    <tr>\n",
              "      <th>2</th>\n",
              "      <td>29555651</td>\n",
              "      <td>2.54506</td>\n",
              "    </tr>\n",
              "    <tr>\n",
              "      <th>3</th>\n",
              "      <td>25928216</td>\n",
              "      <td>2.21831</td>\n",
              "    </tr>\n",
              "    <tr>\n",
              "      <th>4</th>\n",
              "      <td>30423112</td>\n",
              "      <td>2.61376</td>\n",
              "    </tr>\n",
              "  </tbody>\n",
              "</table>\n",
              "</div>"
            ],
            "text/plain": [
              "       Data     Time\n",
              "0  37395246  3.92089\n",
              "1  36610827  3.21540\n",
              "2  29555651  2.54506\n",
              "3  25928216  2.21831\n",
              "4  30423112  2.61376"
            ]
          },
          "metadata": {
            "tags": []
          },
          "execution_count": 27
        }
      ]
    },
    {
      "cell_type": "code",
      "metadata": {
        "id": "X9HqH5vqmy1q",
        "colab_type": "code",
        "outputId": "9e25d79e-19c2-44cf-81be-70fdc415eca5",
        "colab": {
          "base_uri": "https://localhost:8080/",
          "height": 296
        }
      },
      "source": [
        "\n",
        "sns.scatterplot( df['Data'], df['Time'])"
      ],
      "execution_count": 0,
      "outputs": [
        {
          "output_type": "execute_result",
          "data": {
            "text/plain": [
              "<matplotlib.axes._subplots.AxesSubplot at 0x7f713dbab8d0>"
            ]
          },
          "metadata": {
            "tags": []
          },
          "execution_count": 7
        },
        {
          "output_type": "display_data",
          "data": {
            "image/png": "[encoded data removed]",
            "text/plain": [
              "<Figure size 432x288 with 1 Axes>"
            ]
          },
          "metadata": {
            "tags": [],
            "needs_background": "light"
          }
        }
      ]
    },
    {
      "cell_type": "markdown",
      "metadata": {
        "id": "BnZPak97tKgg",
        "colab_type": "text"
      },
      "source": [
        "Biểu đồ biểu diễn quan hệ giữa cột Data và cột Time, hiện tại điểm biểu diễn của Data và Time không còn nằm trong 1 đường thẳng nữa mà đã tách thành 2 đường\n"
      ]
    },
    {
      "cell_type": "code",
      "metadata": {
        "id": "Cr_hqWK_lSjR",
        "colab_type": "code",
        "outputId": "cee1fdab-5ea4-4abb-e1bb-18322b8cee4f",
        "colab": {
          "base_uri": "https://localhost:8080/",
          "height": 170
        }
      },
      "source": [
        "df.info()"
      ],
      "execution_count": 0,
      "outputs": [
        {
          "output_type": "stream",
          "text": [
            "<class 'pandas.core.frame.DataFrame'>\n",
            "RangeIndex: 10589 entries, 0 to 10588\n",
            "Data columns (total 2 columns):\n",
            " #   Column  Non-Null Count  Dtype  \n",
            "---  ------  --------------  -----  \n",
            " 0   Data    10589 non-null  int64  \n",
            " 1   Time    10589 non-null  float64\n",
            "dtypes: float64(1), int64(1)\n",
            "memory usage: 165.6 KB\n"
          ],
          "name": "stdout"
        }
      ]
    },
    {
      "cell_type": "markdown",
      "metadata": {
        "id": "u3UzoMV_tUC2",
        "colab_type": "text"
      },
      "source": [
        "Thông tin về Dataset, ta có 10589 điểm dữ liệu với 2 đặc trưng đó là Data, và Time\n"
      ]
    },
    {
      "cell_type": "code",
      "metadata": {
        "id": "Dl_I9SMAYYO3",
        "colab_type": "code",
        "colab": {}
      },
      "source": [
        "Y = df['Time']\n",
        "df = df.drop(['Time'], axis = 1)"
      ],
      "execution_count": 0,
      "outputs": []
    },
    {
      "cell_type": "markdown",
      "metadata": {
        "id": "Usz2aCpytTQn",
        "colab_type": "text"
      },
      "source": [
        "Ta sẽ lấy cột Time ra để lưu vào biến Y, yêu cầu của bài toán là khi ta có 1 dữ liệu đầu vào là Data của chương trình thì ta sẽ dự đoán được đầu ra là thời gian để chạy chương trình đó"
      ]
    },
    {
      "cell_type": "code",
      "metadata": {
        "id": "vqTBKHlUEuwB",
        "colab_type": "code",
        "colab": {}
      },
      "source": [
        "df = np.array (df, dtype = np.float64)\n",
        "X_train1, X_test1, y_train1, y_test1 = train_test_split (df, Y, test_size = 0.3, random_state = 30)\n",
        "from sklearn.linear_model import LinearRegression"
      ],
      "execution_count": 0,
      "outputs": []
    },
    {
      "cell_type": "code",
      "metadata": {
        "id": "pGHopLB_FhzW",
        "colab_type": "code",
        "outputId": "0c458e2b-62c5-45be-e108-92156f6db647",
        "colab": {
          "base_uri": "https://localhost:8080/",
          "height": 34
        }
      },
      "source": [
        "md = LinearRegression()\n",
        "md.fit (X_train1, y_train1)\n",
        "result = md.predict(X_test1)\n",
        "MSE = mean_squared_error(y_test1, result)\n",
        "print(MSE)"
      ],
      "execution_count": 0,
      "outputs": [
        {
          "output_type": "stream",
          "text": [
            "0.003311893182799956\n"
          ],
          "name": "stdout"
        }
      ]
    },
    {
      "cell_type": "markdown",
      "metadata": {
        "id": "1bK2icjwGrne",
        "colab_type": "text"
      },
      "source": [
        "Kiểm tra độ chính xác của model, kết quả thấp hơn ở Round 2, vì hiện tại các điểm dữ liệu không chỉ nằm trên 1 đường thẳng nữa, nên model sẽ dự đoán ra 1 đường thẳng có thể gần tất cả các điểm nhất, nhưng ở round 2 đường thẳng này trùng với đường thẳng tuyến tính của dữ liệu, còn ở round 3 này thì không nên sẽ giảm độ chính xác đi"
      ]
    },
    {
      "cell_type": "code",
      "metadata": {
        "id": "lHqXF-MVY-Gc",
        "colab_type": "code",
        "outputId": "c22da3d2-3892-4ecb-8ed5-247beba14373",
        "colab": {
          "base_uri": "https://localhost:8080/",
          "height": 51
        }
      },
      "source": [
        "tmp = df['Data']\n",
        "tmp = np.array(tmp, dtype=np.float64)\n",
        "print (tmp)\n",
        "print (type(tmp))"
      ],
      "execution_count": 0,
      "outputs": [
        {
          "output_type": "stream",
          "text": [
            "[37395246. 36610827. 29555651. ... 33520323. 21243264. 21380484.]\n",
            "<class 'numpy.ndarray'>\n"
          ],
          "name": "stdout"
        }
      ]
    },
    {
      "cell_type": "markdown",
      "metadata": {
        "id": "cqy5DlUQusRD",
        "colab_type": "text"
      },
      "source": [
        "Tạo ra 1 biến tạm có tên là tmp để lưu trữ các giá trị của cột Data theo kiểu numpy-array"
      ]
    },
    {
      "cell_type": "code",
      "metadata": {
        "id": "I-mVTC7rj145",
        "colab_type": "code",
        "colab": {}
      },
      "source": [
        "Square = (tmp**2)\n",
        "nlog = [i*math.log(i) for i in tmp]\n",
        "sqrt = [math.sqrt(i) for i in tmp]\n"
      ],
      "execution_count": 0,
      "outputs": []
    },
    {
      "cell_type": "markdown",
      "metadata": {
        "id": "wNHpHQgDurha",
        "colab_type": "text"
      },
      "source": [
        "Tính toán 3 biến Square(bình phương của cột Data), nlog (nlog(n) của cột Data) và sqrt(căng bậc 2 của cột Data)\n"
      ]
    },
    {
      "cell_type": "code",
      "metadata": {
        "id": "w48peZpSj-U3",
        "colab_type": "code",
        "outputId": "56f84ac4-e0c1-4db7-e24a-12604fe6fefe",
        "colab": {
          "base_uri": "https://localhost:8080/",
          "height": 119
        }
      },
      "source": [
        "print (Square[1])\n",
        "print (len(Square))\n",
        "print (nlog[1])\n",
        "print (len(nlog))\n",
        "print (sqrt[1])\n",
        "print (len(sqrt))"
      ],
      "execution_count": 0,
      "outputs": [
        {
          "output_type": "stream",
          "text": [
            "1340352653623929.0\n",
            "10589\n",
            "637608838.8767723\n",
            "10589\n",
            "6050.688142682616\n",
            "10589\n"
          ],
          "name": "stdout"
        }
      ]
    },
    {
      "cell_type": "markdown",
      "metadata": {
        "id": "wuTrC3ylvBOE",
        "colab_type": "text"
      },
      "source": [
        "Kiểm tra thử giá trị của 3 biến Square, nlog, sqrt cũng như độ dài của chúng\n"
      ]
    },
    {
      "cell_type": "code",
      "metadata": {
        "id": "Rx1iXBFhltW6",
        "colab_type": "code",
        "colab": {}
      },
      "source": [
        "df['Square'] = Square\n",
        "df['nlogn'] = nlog\n",
        "df['Sqrt'] = sqrt"
      ],
      "execution_count": 0,
      "outputs": []
    },
    {
      "cell_type": "markdown",
      "metadata": {
        "id": "uhwkPJnGvInp",
        "colab_type": "text"
      },
      "source": [
        "Tạo ra 3 cột mới trong bảng dữ liệu của mình để lưu trữ 3 bộ giá trị nằm trong 3 biến Square, nlog, và sqrt"
      ]
    },
    {
      "cell_type": "code",
      "metadata": {
        "id": "EWrxGunOl5OQ",
        "colab_type": "code",
        "outputId": "593d9b31-92b7-41fe-afff-e52657029b14",
        "colab": {
          "base_uri": "https://localhost:8080/",
          "height": 204
        }
      },
      "source": [
        "df.head()"
      ],
      "execution_count": 0,
      "outputs": [
        {
          "output_type": "execute_result",
          "data": {
            "text/html": [
              "<div>\n",
              "<style scoped>\n",
              "    .dataframe tbody tr th:only-of-type {\n",
              "        vertical-align: middle;\n",
              "    }\n",
              "\n",
              "    .dataframe tbody tr th {\n",
              "        vertical-align: top;\n",
              "    }\n",
              "\n",
              "    .dataframe thead th {\n",
              "        text-align: right;\n",
              "    }\n",
              "</style>\n",
              "<table border=\"1\" class=\"dataframe\">\n",
              "  <thead>\n",
              "    <tr style=\"text-align: right;\">\n",
              "      <th></th>\n",
              "      <th>Data</th>\n",
              "      <th>Square</th>\n",
              "      <th>nlogn</th>\n",
              "      <th>Sqrt</th>\n",
              "    </tr>\n",
              "  </thead>\n",
              "  <tbody>\n",
              "    <tr>\n",
              "      <th>0</th>\n",
              "      <td>37395246</td>\n",
              "      <td>1.398404e+15</td>\n",
              "      <td>6.520629e+08</td>\n",
              "      <td>6115.165247</td>\n",
              "    </tr>\n",
              "    <tr>\n",
              "      <th>1</th>\n",
              "      <td>36610827</td>\n",
              "      <td>1.340353e+15</td>\n",
              "      <td>6.376088e+08</td>\n",
              "      <td>6050.688143</td>\n",
              "    </tr>\n",
              "    <tr>\n",
              "      <th>2</th>\n",
              "      <td>29555651</td>\n",
              "      <td>8.735365e+14</td>\n",
              "      <td>5.084100e+08</td>\n",
              "      <td>5436.510922</td>\n",
              "    </tr>\n",
              "    <tr>\n",
              "      <th>3</th>\n",
              "      <td>25928216</td>\n",
              "      <td>6.722724e+14</td>\n",
              "      <td>4.426165e+08</td>\n",
              "      <td>5091.975648</td>\n",
              "    </tr>\n",
              "    <tr>\n",
              "      <th>4</th>\n",
              "      <td>30423112</td>\n",
              "      <td>9.255657e+14</td>\n",
              "      <td>5.242119e+08</td>\n",
              "      <td>5515.715004</td>\n",
              "    </tr>\n",
              "  </tbody>\n",
              "</table>\n",
              "</div>"
            ],
            "text/plain": [
              "       Data        Square         nlogn         Sqrt\n",
              "0  37395246  1.398404e+15  6.520629e+08  6115.165247\n",
              "1  36610827  1.340353e+15  6.376088e+08  6050.688143\n",
              "2  29555651  8.735365e+14  5.084100e+08  5436.510922\n",
              "3  25928216  6.722724e+14  4.426165e+08  5091.975648\n",
              "4  30423112  9.255657e+14  5.242119e+08  5515.715004"
            ]
          },
          "metadata": {
            "tags": []
          },
          "execution_count": 38
        }
      ]
    },
    {
      "cell_type": "markdown",
      "metadata": {
        "id": "ZWbcuZyYvH5n",
        "colab_type": "text"
      },
      "source": [
        "Kiểm tra lại tập dữ liệu 1 lần nữa, hiện tại đã có tổng cộng 5 cột dữ liệu\n"
      ]
    },
    {
      "cell_type": "code",
      "metadata": {
        "id": "FyAgo5hBl9zl",
        "colab_type": "code",
        "colab": {}
      },
      "source": [
        "df = np.array (df, dtype= np.float64)"
      ],
      "execution_count": 0,
      "outputs": []
    },
    {
      "cell_type": "markdown",
      "metadata": {
        "id": "7Eq4IU9RvXmM",
        "colab_type": "text"
      },
      "source": [
        "Chuyển đổi toàn bộ Dataset của ta từ dạng bảng sang dạng mảng numpy để đưa vào model\n"
      ]
    },
    {
      "cell_type": "code",
      "metadata": {
        "id": "AJ1FT9hCq63I",
        "colab_type": "code",
        "outputId": "4787f720-5374-47db-b42a-908e0d828b76",
        "colab": {
          "base_uri": "https://localhost:8080/",
          "height": 136
        }
      },
      "source": [
        "print (df)"
      ],
      "execution_count": 0,
      "outputs": [
        {
          "output_type": "stream",
          "text": [
            "[[3.73952460e+07 1.39840442e+15 6.52062929e+08 6.11516525e+03]\n",
            " [3.66108270e+07 1.34035265e+15 6.37608839e+08 6.05068814e+03]\n",
            " [2.95556510e+07 8.73536506e+14 5.08409969e+08 5.43651092e+03]\n",
            " ...\n",
            " [3.35203230e+07 1.12361205e+15 5.80828843e+08 5.78967383e+03]\n",
            " [2.12432640e+07 4.51276265e+14 3.58406800e+08 4.60904155e+03]\n",
            " [2.13804840e+07 4.57125096e+14 3.60859576e+08 4.62390355e+03]]\n"
          ],
          "name": "stdout"
        }
      ]
    },
    {
      "cell_type": "code",
      "metadata": {
        "id": "JeFdjhUqnii0",
        "colab_type": "code",
        "colab": {}
      },
      "source": [
        "X_train, X_test, y_train, y_test = train_test_split(df, Y, test_size = 0.3, random_state = 30)\n"
      ],
      "execution_count": 0,
      "outputs": []
    },
    {
      "cell_type": "markdown",
      "metadata": {
        "id": "gEeXaGB3vf6y",
        "colab_type": "text"
      },
      "source": [
        "Cắt tập dữ liệu thành 2 phần, train và test, với 30% dữ liệu nằm trong tập test"
      ]
    },
    {
      "cell_type": "code",
      "metadata": {
        "id": "bLtVcT0EoaMD",
        "colab_type": "code",
        "outputId": "8a22b290-a3c3-4593-cdfd-91f012b0fb7e",
        "colab": {
          "base_uri": "https://localhost:8080/",
          "height": 34
        }
      },
      "source": [
        "\n",
        "model = LinearRegression ()\n",
        "model.fit (X_train, y_train)"
      ],
      "execution_count": 0,
      "outputs": [
        {
          "output_type": "execute_result",
          "data": {
            "text/plain": [
              "LinearRegression(copy_X=True, fit_intercept=True, n_jobs=None, normalize=False)"
            ]
          },
          "metadata": {
            "tags": []
          },
          "execution_count": 42
        }
      ]
    },
    {
      "cell_type": "markdown",
      "metadata": {
        "id": "aK5rm7J7vqUS",
        "colab_type": "text"
      },
      "source": [
        "Khởi tạo model linear regression, đưa dữ liệu vào để train model"
      ]
    },
    {
      "cell_type": "code",
      "metadata": {
        "id": "qikHlNnSo_FJ",
        "colab_type": "code",
        "colab": {}
      },
      "source": [
        "re = model.predict (X_test)"
      ],
      "execution_count": 0,
      "outputs": []
    },
    {
      "cell_type": "markdown",
      "metadata": {
        "id": "xCUWU5Kyvx3K",
        "colab_type": "text"
      },
      "source": [
        "Cho model dự đoán tập dữ liệu test\n"
      ]
    },
    {
      "cell_type": "code",
      "metadata": {
        "id": "YAhf5gDmsjhI",
        "colab_type": "code",
        "colab": {}
      },
      "source": [
        "acc = mean_squared_error(y_test, re)\n"
      ],
      "execution_count": 0,
      "outputs": []
    },
    {
      "cell_type": "code",
      "metadata": {
        "id": "DjApyskVs0n6",
        "colab_type": "code",
        "outputId": "e66ddeba-7243-4e4d-a147-ce64ae86fd89",
        "colab": {
          "base_uri": "https://localhost:8080/",
          "height": 34
        }
      },
      "source": [
        "print (acc)"
      ],
      "execution_count": 0,
      "outputs": [
        {
          "output_type": "stream",
          "text": [
            "0.0033063659294326106\n"
          ],
          "name": "stdout"
        }
      ]
    },
    {
      "cell_type": "markdown",
      "metadata": {
        "id": "fm5OfiCOv4tP",
        "colab_type": "text"
      },
      "source": [
        "Kết quả ở đây còn tệ hơn phía trên thưa thầy, em cũng không hiểu vì sau mong thầy giải đáp\n",
        "\n"
      ]
    },
    {
      "cell_type": "code",
      "metadata": {
        "id": "cQdbAJcMzAlR",
        "colab_type": "code",
        "outputId": "585ca875-bcc5-41e1-b6d6-a2b0b1eca832",
        "colab": {
          "base_uri": "https://localhost:8080/",
          "height": 34
        }
      },
      "source": [
        "New_data = 30000000000\n",
        "def using_model (new_data):\n",
        "  Square = (new_data**2)\n",
        "  nlog = math.log(new_data)\n",
        "  sqrt = math.sqrt(new_data)\n",
        "  New = []\n",
        "  New.append(new_data)\n",
        "  New.append(Square)\n",
        "  New.append(nlog)\n",
        "  New.append(sqrt)\n",
        "  New = np.array(New, dtype=np.float64)\n",
        "  New = New.reshape (1,-1)\n",
        "  re1 = model.predict(New)\n",
        "  return re1\n",
        "print (using_model(New_data))\n"
      ],
      "execution_count": 0,
      "outputs": [
        {
          "output_type": "stream",
          "text": [
            "[733115.68621333]\n"
          ],
          "name": "stdout"
        }
      ]
    }
  ]
}